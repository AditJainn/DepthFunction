{
 "cells": [
  {
   "cell_type": "code",
   "execution_count": 2,
   "metadata": {},
   "outputs": [],
   "source": [
    "import torch\n",
    "import numpy as np\n",
    "import scipy.stats\n",
    "\n"
   ]
  },
  {
   "cell_type": "code",
   "execution_count": null,
   "metadata": {},
   "outputs": [],
   "source": [
    "\n",
    "def computeSumation(coefficients,m=20): # currently not used\n",
    "    total = 0\n",
    "    for num in range(0,m+1):\n",
    "        x = np.array([num**i for i in range(len(coefficients)-1,-1,-1)])\n",
    "        result = np.dot(x, coefficients)\n",
    "        total+=result\n",
    "    return total"
   ]
  },
  {
   "cell_type": "code",
   "execution_count": 5,
   "metadata": {},
   "outputs": [],
   "source": [
    "\n",
    "# Takes in a n by 1 vector \n",
    "def compute_f_Hat(y,z): \n",
    "    # U = [1,34,24].T()\n",
    "    total = 0 \n",
    "    # Effiency note? Check if this is faster? \n",
    "    # Instead of a for loop we can multiply the vector by the inverse of y and floor the vector and then compute the sum of the vector.\n",
    "    # It might be more operations but the operations it self may be faster \n",
    "    for i in range(y.shape[0]):\n",
    "        if (y[i]<=z):  # \n",
    "            total+=1\n",
    "    return float(total)/y.shape[0]\n",
    "\n",
    "\n",
    "# X represents a singular function in points on a grid 1 x M ( where M represents the number of points n the grid)\n",
    "# Xn represents the matrix for all functions   N x M (Where N is the number of functions)\n",
    "# U represents the matrix of random numbers pulled from the normal distrubution with shape J x M Where J represents the unit vectors and M represents the number of points\n",
    "# Note that in the example provided that there was 100 functions with 10 data points representing each function \n",
    "\n",
    "# This function will return the depth of function x in respect to all other functions in the data set\n",
    "def depth(x, xn, u):\n",
    "    depth=0\n",
    "    for j in range(0,u.shape[0]):\n",
    "        x_u_dot = np.dot(u[j],x)  \n",
    "        xn_uj = np.matmul(xn,u[j].T) # results in a matrix that is Where xn = N x M and u[j].T = M x 1 \n",
    "        # Now for each row in the xn_uj we want to see how many of those rows are less than x_u_dot \n",
    "        # Naive approach\n",
    "        depth_j = compute_f_Hat(xn_uj,x_u_dot)\n",
    "        depth += depth_j / u.shape[0]\n",
    "    return depth"
   ]
  },
  {
   "cell_type": "code",
   "execution_count": 16,
   "metadata": {},
   "outputs": [],
   "source": [
    "# calculates the inner product between two functions \n",
    "# Where f and g are both vectors that represent the coefients\n",
    "# This is the for the aproximation where you are given points and not the function\n",
    "\n",
    "\n",
    "\n",
    "def KW_H_Test(functionalDataSet: np.ndarray, UnitVectorMatrix: np.ndarray, \n",
    "              groups:np.ndarray): \n",
    "    # Takes in Xn and the group labels and pass it U \n",
    "    # Lets just assume for now that the groups are distr\n",
    "    # Groups will be a 1xn array with each element refering to a row in a matrix representing its group \n",
    "    # \n",
    "\n",
    "    np.apply_along_axis(depth,axis=0,arr = functionalDataSet,u = UnitVectorMatrix,)\n",
    "    # for i in range(0,functionalDataSet.shape[0]):\n",
    "    #     print(depth(functionalDataSet[i],functionalDataSet,UnitVectorMatrix))\n",
    "\n",
    "\n",
    "\n",
    "    # sampleList = []\n",
    "    # for i in range(0,30):\n",
    "    #     sampleList.append((depth(Xn[i],Xn,U),\"Group1\"))\n",
    "    # for i in range(30,60):\n",
    "    #     sampleList.append((depth(Xn[i],Xn,U),\"Group2\"))\n",
    "    # for i in range(60,100):\n",
    "    #     sampleList.append((depth(Xn[i],Xn,U),\"Group3\"))\n",
    "    # sampleList.sort() # this does not deal with duplicate ranks so this will need to manually implemented \n",
    "    # group1Total = 0 \n",
    "    # group2Total = 0 \n",
    "    # group3Total = 0 \n",
    "    # for tup in sampleList:\n",
    "    #     if tup[1] == \"Group1\":\n",
    "    #         group1Total += i \n",
    "    #     elif tup[1] == \"Group2\":\n",
    "    #         group2Total += i\n",
    "    #     else:\n",
    "    #         group3Total += i \n",
    "\n",
    "    # summation = ( ((group1Total**2)/3) + ((group2Total**2)/3) + ((group3Total**2)/4))\n",
    "    # hStat = 12/(10*11) * summation - 3*(10+1)\n",
    "    # degreeOfFreedom = 3 -1 \n",
    "    # chiSquare = scipy.stats.chi2.ppf(1-.05, df=degreeOfFreedom)\n",
    "\n",
    "    # return(hStat>chiSquare)\n",
    "        \n"
   ]
  },
  {
   "cell_type": "code",
   "execution_count": 17,
   "metadata": {},
   "outputs": [
    {
     "ename": "TypeError",
     "evalue": "_apply_along_axis_dispatcher() missing 1 required positional argument: 'arr'",
     "output_type": "error",
     "traceback": [
      "\u001b[0;31m---------------------------------------------------------------------------\u001b[0m",
      "\u001b[0;31mTypeError\u001b[0m                                 Traceback (most recent call last)",
      "\u001b[1;32m/Users/aditjain/Desktop/Summer 2023/Research Project/DepthFunction/randomProjectionDepth 2.ipynb Cell 5\u001b[0m in \u001b[0;36m<cell line: 5>\u001b[0;34m()\u001b[0m\n\u001b[1;32m      <a href='vscode-notebook-cell:/Users/aditjain/Desktop/Summer%202023/Research%20Project/DepthFunction/randomProjectionDepth%202.ipynb#W2sZmlsZQ%3D%3D?line=1'>2</a>\u001b[0m U \u001b[39m=\u001b[39m np\u001b[39m.\u001b[39mrandom\u001b[39m.\u001b[39mrandom((\u001b[39m20\u001b[39m, \u001b[39m10\u001b[39m))\n\u001b[1;32m      <a href='vscode-notebook-cell:/Users/aditjain/Desktop/Summer%202023/Research%20Project/DepthFunction/randomProjectionDepth%202.ipynb#W2sZmlsZQ%3D%3D?line=2'>3</a>\u001b[0m groups \u001b[39m=\u001b[39m np\u001b[39m.\u001b[39mrandom\u001b[39m.\u001b[39mrandint(\u001b[39m1\u001b[39m, \u001b[39m11\u001b[39m, size\u001b[39m=\u001b[39m\u001b[39m100\u001b[39m) \u001b[39m# where size must be the amount of rows in Xn \u001b[39;00m\n\u001b[0;32m----> <a href='vscode-notebook-cell:/Users/aditjain/Desktop/Summer%202023/Research%20Project/DepthFunction/randomProjectionDepth%202.ipynb#W2sZmlsZQ%3D%3D?line=4'>5</a>\u001b[0m KW_H_Test(Xn,U,groups)\n",
      "\u001b[1;32m/Users/aditjain/Desktop/Summer 2023/Research Project/DepthFunction/randomProjectionDepth 2.ipynb Cell 5\u001b[0m in \u001b[0;36mKW_H_Test\u001b[0;34m(functionalDataSet, UnitVectorMatrix, groups)\u001b[0m\n\u001b[1;32m      <a href='vscode-notebook-cell:/Users/aditjain/Desktop/Summer%202023/Research%20Project/DepthFunction/randomProjectionDepth%202.ipynb#W2sZmlsZQ%3D%3D?line=6'>7</a>\u001b[0m \u001b[39mdef\u001b[39;00m \u001b[39mKW_H_Test\u001b[39m(functionalDataSet: np\u001b[39m.\u001b[39mndarray, UnitVectorMatrix: np\u001b[39m.\u001b[39mndarray, \n\u001b[1;32m      <a href='vscode-notebook-cell:/Users/aditjain/Desktop/Summer%202023/Research%20Project/DepthFunction/randomProjectionDepth%202.ipynb#W2sZmlsZQ%3D%3D?line=7'>8</a>\u001b[0m               groups:np\u001b[39m.\u001b[39mndarray): \n\u001b[1;32m      <a href='vscode-notebook-cell:/Users/aditjain/Desktop/Summer%202023/Research%20Project/DepthFunction/randomProjectionDepth%202.ipynb#W2sZmlsZQ%3D%3D?line=8'>9</a>\u001b[0m     \u001b[39m# Takes in Xn and the group labels and pass it U \u001b[39;00m\n\u001b[1;32m     <a href='vscode-notebook-cell:/Users/aditjain/Desktop/Summer%202023/Research%20Project/DepthFunction/randomProjectionDepth%202.ipynb#W2sZmlsZQ%3D%3D?line=9'>10</a>\u001b[0m     \u001b[39m# Lets just assume for now that the groups are distr\u001b[39;00m\n\u001b[1;32m     <a href='vscode-notebook-cell:/Users/aditjain/Desktop/Summer%202023/Research%20Project/DepthFunction/randomProjectionDepth%202.ipynb#W2sZmlsZQ%3D%3D?line=10'>11</a>\u001b[0m     \u001b[39m# Groups will be a 1xn array with each element refering to a row in a matrix representing its group \u001b[39;00m\n\u001b[1;32m     <a href='vscode-notebook-cell:/Users/aditjain/Desktop/Summer%202023/Research%20Project/DepthFunction/randomProjectionDepth%202.ipynb#W2sZmlsZQ%3D%3D?line=11'>12</a>\u001b[0m     \u001b[39m# \u001b[39;00m\n\u001b[0;32m---> <a href='vscode-notebook-cell:/Users/aditjain/Desktop/Summer%202023/Research%20Project/DepthFunction/randomProjectionDepth%202.ipynb#W2sZmlsZQ%3D%3D?line=13'>14</a>\u001b[0m     np\u001b[39m.\u001b[39;49mapply_along_axis(depth,\u001b[39m1\u001b[39;49m,xn \u001b[39m=\u001b[39;49m functionalDataSet,u \u001b[39m=\u001b[39;49m UnitVectorMatrix)\n",
      "File \u001b[0;32m<__array_function__ internals>:4\u001b[0m, in \u001b[0;36mapply_along_axis\u001b[0;34m(*args, **kwargs)\u001b[0m\n",
      "\u001b[0;31mTypeError\u001b[0m: _apply_along_axis_dispatcher() missing 1 required positional argument: 'arr'"
     ]
    }
   ],
   "source": [
    "Xn = np.random.random((100, 10)) # represents all the data \n",
    "U = np.random.random((20, 10))\n",
    "groups = np.random.randint(1, 11, size=100) # where size must be the amount of rows in Xn \n",
    "\n",
    "KW_H_Test(Xn,U,groups)"
   ]
  },
  {
   "cell_type": "code",
   "execution_count": 1,
   "metadata": {},
   "outputs": [],
   "source": [
    "# print(data.shape)\n",
    "# print(data[\"MCO\"])"
   ]
  },
  {
   "cell_type": "code",
   "execution_count": 46,
   "metadata": {},
   "outputs": [],
   "source": [
    "import skfda\n",
    "data = skfda.datasets.fetch_cran(\"MCO\", \"fda.usc\")\n"
   ]
  },
  {
   "cell_type": "code",
   "execution_count": 11,
   "metadata": {},
   "outputs": [
    {
     "name": "stdout",
     "output_type": "stream",
     "text": [
      "20\n"
     ]
    }
   ],
   "source": [
    "matrix1 = np.random.random((100, 10))\n",
    "\n",
    "# Create a 10x20 matrix\n",
    "matrix2 = np.random.random((10, 20))\n",
    "\n",
    "# Perform matrix multiplication\n",
    "result = np.matmul(matrix1, matrix2)\n",
    "print(result.shape[1])"
   ]
  },
  {
   "cell_type": "code",
   "execution_count": 126,
   "metadata": {},
   "outputs": [
    {
     "name": "stdout",
     "output_type": "stream",
     "text": [
      "[6 2 5 5 4 0 2 8 0 8]\n",
      "[13 40  5  5 29 53 40  5 53  5]\n",
      "[ 7 37 -3 -3 25 51 37 -3 51 -3]\n",
      "[17 50  5  5 37 65 50  5 65  5]\n",
      "[13 46  1  1 33 61 46  1 61  1]\n",
      "[11 47 -3 -3 33 63 47 -3 63 -3]\n",
      "[ 7 34 -1 -1 23 47 34 -1 47 -1]\n",
      "[13 46  1  1 33 61 46  1 61  1  1]\n",
      "[11 47 -3 -3 33 63 47 -3 63 -3 -2]\n",
      "[ 7 34 -1 -1 23 47 34 -1 47 -1 -3]\n"
     ]
    }
   ],
   "source": [
    "t = np.random.randint(0,10,size=(10))\n",
    "\n",
    "g1s1 = np.array([], dtype=int)\n",
    "g1s2 = np.array([], dtype=int)\n",
    "g1s3 = np.array([], dtype=int)\n",
    "\n",
    "g2s1 = np.array([], dtype=int)\n",
    "g2s2 = np.array([], dtype=int)\n",
    "g2s3 = np.array([], dtype=int)\n",
    "\n",
    "g3s1 = np.array([], dtype=int)\n",
    "g3s2 = np.array([], dtype=int)\n",
    "g3s3 = np.array([], dtype=int)\n",
    "\n",
    "for x in t:\n",
    "    i = t[x]\n",
    "    \n",
    "    g1s1 = np.append(g1s1,i**2 + 2*i +5)\n",
    "    g1s2 = np.append(g1s2,i**2 + 3*i -3)\n",
    "    g1s3 = np.append(g1s3,i**2 + 4*i +5)\n",
    "\n",
    "    g2s1 = np.append(g2s1,i**2 + 4*i +1)\n",
    "    g2s2 = np.append(g2s2,i**2 + 5*i -3)\n",
    "    g2s3 = np.append(g2s3,i**2 + 2*i -1)\n",
    "    \n",
    "    g3s1 = np.append(g2s1,i**2 + 1*i +1)\n",
    "    g3s2 = np.append(g2s2,i**2 + 2*i -2)\n",
    "    g3s3 = np.append(g2s3,i**2 + 3*i -3)\n",
    "    \n",
    "print(t)\n",
    "print(g1s1)\n",
    "print(g1s2)\n",
    "print(g1s3)\n",
    "\n",
    "print(g2s1)\n",
    "print(g2s2)\n",
    "print(g2s3)\n",
    "\n",
    "print(g3s1)\n",
    "print(g3s2)\n",
    "print(g3s3)"
   ]
  }
 ],
 "metadata": {
  "kernelspec": {
   "display_name": "eecs4422",
   "language": "python",
   "name": "python3"
  },
  "language_info": {
   "codemirror_mode": {
    "name": "ipython",
    "version": 3
   },
   "file_extension": ".py",
   "mimetype": "text/x-python",
   "name": "python",
   "nbconvert_exporter": "python",
   "pygments_lexer": "ipython3",
   "version": "3.9.12"
  },
  "orig_nbformat": 4
 },
 "nbformat": 4,
 "nbformat_minor": 2
}
