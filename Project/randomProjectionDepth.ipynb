{
 "cells": [
  {
   "cell_type": "code",
   "execution_count": 123,
   "metadata": {},
   "outputs": [],
   "source": [
    "import torch\n",
    "import numpy as np\n",
    "import scipy.stats\n",
    "\n"
   ]
  },
  {
   "cell_type": "code",
   "execution_count": 88,
   "metadata": {},
   "outputs": [],
   "source": [
    "# calculates the inner product between two functions \n",
    "# Where f and g are both vectors that represent the coefients\n",
    "# This is the for the aproximation where you are given points and not the function\n",
    "def computerDotProduct(Fpoints,GPoints,): \n",
    "    return np.dot(Fpoints,GPoints)\n",
    "\n",
    "def computeSumation(coefficients,m=20):\n",
    "    total = 0\n",
    "    for num in range(m+1):\n",
    "        x = np.array([num**i for i in range(len(coefficients)-1,-1,-1)])\n",
    "        result = np.dot(x, coefficients)\n",
    "        total+=result\n",
    "    return total\n",
    "\n",
    "def compute_f_Hat(list_of_coef_f,u,n,y): \n",
    "    # U = [1,34,24].T()\n",
    "    total = 0 \n",
    "    for i in range(n+1):\n",
    "        coef_f = list_of_coef_f[i]\n",
    "        if ((computeSumation(coef_f) + computeSumation(u))) <= y:\n",
    "            total+=1\n",
    "    return float(total)/n\n",
    "        \n",
    "def computeDepth(coef_f, coef_g,m,j):\n",
    "    total = 0 \n",
    "    s = np.random.normal(0, 0.1, size=[j,m])\n",
    "    for i in j:\n",
    "        fhat = compute_f_Hat(coef_f[i],coef_g[i])\n",
    "        total+= fhat* (1-fhat)\n",
    "    return (1/j) * total\n",
    "\n",
    "\n",
    "# h0 the samples are the same\n",
    "# h1 the samples are not the same\n",
    "\n",
    "# h = 12/(number of functions)*((number of functions)+1)\n",
    "def KW_H_Test():\n",
    "    constantLeft = 12/((n**2)+n)\n",
    "\n",
    "\n",
    "    constantRight = -3*(n+1)\n",
    "\n",
    "    degreeOfFreedom = n -1 \n",
    "    chiSquare = scipy.stats.chi2.ppf(1-.05, df=degreeOfFreedom)\n",
    "    if Hstat < chiSquare: "
   ]
  },
  {
   "cell_type": "code",
   "execution_count": 126,
   "metadata": {},
   "outputs": [
    {
     "name": "stdout",
     "output_type": "stream",
     "text": [
      "[6 2 5 5 4 0 2 8 0 8]\n",
      "[13 40  5  5 29 53 40  5 53  5]\n",
      "[ 7 37 -3 -3 25 51 37 -3 51 -3]\n",
      "[17 50  5  5 37 65 50  5 65  5]\n",
      "[13 46  1  1 33 61 46  1 61  1]\n",
      "[11 47 -3 -3 33 63 47 -3 63 -3]\n",
      "[ 7 34 -1 -1 23 47 34 -1 47 -1]\n",
      "[13 46  1  1 33 61 46  1 61  1  1]\n",
      "[11 47 -3 -3 33 63 47 -3 63 -3 -2]\n",
      "[ 7 34 -1 -1 23 47 34 -1 47 -1 -3]\n"
     ]
    }
   ],
   "source": [
    "t = np.random.randint(0,10,size=(10))\n",
    "\n",
    "g1s1 = np.array([], dtype=int)\n",
    "g1s2 = np.array([], dtype=int)\n",
    "g1s3 = np.array([], dtype=int)\n",
    "\n",
    "g2s1 = np.array([], dtype=int)\n",
    "g2s2 = np.array([], dtype=int)\n",
    "g2s3 = np.array([], dtype=int)\n",
    "\n",
    "g3s1 = np.array([], dtype=int)\n",
    "g3s2 = np.array([], dtype=int)\n",
    "g3s3 = np.array([], dtype=int)\n",
    "\n",
    "for x in t:\n",
    "    i = t[x]\n",
    "    \n",
    "    g1s1 = np.append(g1s1,i**2 + 2*i +5)\n",
    "    g1s2 = np.append(g1s2,i**2 + 3*i -3)\n",
    "    g1s3 = np.append(g1s3,i**2 + 4*i +5)\n",
    "\n",
    "    g2s1 = np.append(g2s1,i**2 + 4*i +1)\n",
    "    g2s2 = np.append(g2s2,i**2 + 5*i -3)\n",
    "    g2s3 = np.append(g2s3,i**2 + 2*i -1)\n",
    "    \n",
    "    g3s1 = np.append(g2s1,i**2 + 1*i +1)\n",
    "    g3s2 = np.append(g2s2,i**2 + 2*i -2)\n",
    "    g3s3 = np.append(g2s3,i**2 + 3*i -3)\n",
    "    \n",
    "print(t)\n",
    "print(g1s1)\n",
    "print(g1s2)\n",
    "print(g1s3)\n",
    "\n",
    "print(g2s1)\n",
    "print(g2s2)\n",
    "print(g2s3)\n",
    "\n",
    "print(g3s1)\n",
    "print(g3s2)\n",
    "print(g3s3)"
   ]
  }
 ],
 "metadata": {
  "kernelspec": {
   "display_name": "eecs4422",
   "language": "python",
   "name": "python3"
  },
  "language_info": {
   "codemirror_mode": {
    "name": "ipython",
    "version": 3
   },
   "file_extension": ".py",
   "mimetype": "text/x-python",
   "name": "python",
   "nbconvert_exporter": "python",
   "pygments_lexer": "ipython3",
   "version": "3.9.12"
  },
  "orig_nbformat": 4
 },
 "nbformat": 4,
 "nbformat_minor": 2
}
