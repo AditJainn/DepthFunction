{
 "cells": [
  {
   "cell_type": "code",
   "execution_count": 1,
   "metadata": {},
   "outputs": [],
   "source": [
    "import torch\n",
    "import numpy as np\n",
    "import scipy.stats\n",
    "from scipy.stats import rankdata\n",
    "from scipy.interpolate import UnivariateSpline"
   ]
  },
  {
   "cell_type": "code",
   "execution_count": 9,
   "metadata": {},
   "outputs": [],
   "source": [
    "# where y is a matrix of J x N \n",
    "# where z is a vector of J x 1 \n",
    "# returns a J x 1 vector \n",
    "def compute_f_Hat(y,z): \n",
    "    \"\"\"\n",
    "    This function checks each row in y to check if each element is less than z in that same row\n",
    "\n",
    "    Parameters: \n",
    "    y (JxN Matrix): Where J represents the number of unit Vectors and N represents the number of functions \n",
    "    z (Jx1): A vector to compare each row by. \n",
    "    \"\"\"\n",
    "    count_less_than_threshold = (y <= z[:, np.newaxis]).sum(axis=1)\n",
    "    result = count_less_than_threshold/ y.shape[1]\n",
    "    return result\n",
    "\n",
    "\n",
    "# arr represents a singular function in points on a grid 1 x M ( where M represents the number of points n the grid)\n",
    "# Xn represents the matrix for all functions N x M (Where N is the number of functions)\n",
    "# U represents the matrix of random numbers pulled from the normal distrubution with shape J x M \n",
    "# Where J represents the unit vectors and M represents the number of points\n",
    "# This function will return the depth of function x in respect to all other functions in the data set\n",
    "\n",
    "def depth(arr, u, xn_uj):\n",
    "    \"\"\"\n",
    "    The depth function will tell us the depth of any given functional data point relative to the data set \n",
    "    Parameters: \n",
    "    arr(1xM)/np.array: Represents one functional data point. Where M is the number of observations. \n",
    "    xn(NxM)np.array: Represents all functional data points. \n",
    "    u(JxM)np.array: Represents the unit vectors, where J is the number of unit vectors and M is number of points.\n",
    "    Returns: \n",
    "    np.array : An double that represents the depth of each function relative to eachother. \n",
    "    \"\"\"\n",
    "    arr_u_dot = torch.matmul(u,arr)\n",
    "    fHatVector = compute_f_Hat(xn_uj,arr_u_dot)\n",
    "    result = ((torch.matmul(fHatVector, 1- fHatVector))/u.shape[0])\n",
    "    return result\n",
    "\n",
    "\n",
    "def getDepth(functionalDataSet,UnitVectorMatrix):\n",
    "    xn = torch.from_numpy(functionalDataSet)\n",
    "    uj = torch.from_numpy(UnitVectorMatrix)\n",
    "    xn_uj = torch.matmul(xn,uj.T).T\n",
    "    # Returns a Nx 1 vector representing the depth for each row of functionalDataset\n",
    "    depthList = list()\n",
    "    for row in xn:\n",
    "        depthList.append(depth(row,uj,xn_uj).item())    \n",
    "    # Have to convert to a numpy array since scipcy doesnt like Tensors\n",
    "    depthVector = np.array(depthList)\n",
    "    return depthVector\n",
    "\n",
    "\n",
    "\n",
    "# We might need to add a flag for how rank method is caluclated \n",
    "def KW_H_Test(functionalDataSet: np.ndarray, UnitVectorMatrix: np.ndarray, \n",
    "              groups:np.ndarray): \n",
    "    \n",
    "    # # Gets the rank giving us a Nx1 vector \n",
    "    x = getDepth(functionalDataSet,UnitVectorMatrix)\n",
    "    rankVector = rankdata(x)\n",
    "        \n",
    "    # there is a scipy version of kruskal wallis we can use \n",
    "    groupRankDict = dict()\n",
    "    for i in range(0,groups.shape[0]): # Runs at O(N)\n",
    "        oldValue = groupRankDict.get(groups[i])\n",
    "        if oldValue != None: # the key value exsits \n",
    "            groupRankDict[groups[i]] = oldValue + rankVector[i]\n",
    "        else:\n",
    "            groupRankDict[groups[i]] = rankVector[i]\n",
    "\n",
    "    unique, counts = np.unique(groups, return_counts=True) # Runs at O(Groups) which should be fast \n",
    "    \n",
    "    summation = 0 \n",
    "    for key, value in dict(zip(unique, counts)).items(): # Runs at O(N)\n",
    "        summation += (groupRankDict[key] **2) / value\n",
    "    \n",
    "    hStat =  12 /(groups.size* (groups.size +1)) *summation - (3*(groups.size +1))\n",
    "    degreeOfFreedom = unique.size -1 \n",
    "    chiSquare = scipy.stats.chi2.ppf(1-.05, df=degreeOfFreedom)\n",
    "    return(hStat>chiSquare)"
   ]
  },
  {
   "cell_type": "code",
   "execution_count": 10,
   "metadata": {},
   "outputs": [],
   "source": [
    "Xn = np.random.random((100, 10)) # represents all the data  in points\n",
    "U = np.random.random((20, 10))   # unit matrix\n",
    "groups = np.random.randint(1, 11, size=100) # where size must be the amount of rows in Xn \n",
    "temp = KW_H_Test(Xn,U,groups)"
   ]
  },
  {
   "cell_type": "code",
   "execution_count": 72,
   "metadata": {},
   "outputs": [
    {
     "name": "stdout",
     "output_type": "stream",
     "text": [
      "Approximate Derivative: [ 5.75   4.625  5.75   8.375 11.75 ]\n"
     ]
    }
   ],
   "source": [
    "# Given data points (x and y)\n",
    "x = np.array([1, 2, 3, 4, 5])\n",
    "y = np.array([3, 8, 13, 20, 30])\n",
    "\n",
    "# Create a spline interpolation object\n",
    "spline = UnivariateSpline(x, y, s=0)\n",
    "\n",
    "# Calculate the derivative using the spline object\n",
    "derivative = spline.derivative()\n",
    "\n",
    "# Evaluate the derivative at specific points\n",
    "derivative_values = derivative(x)\n",
    "\n",
    "print(\"Approximate Derivative:\", derivative_values)"
   ]
  },
  {
   "cell_type": "code",
   "execution_count": null,
   "metadata": {},
   "outputs": [],
   "source": [
    "# likelyhood depth instead of Simplicial depth"
   ]
  },
  {
   "cell_type": "markdown",
   "metadata": {},
   "source": [
    "How to compute multiple row operations at the same time: https://saturncloud.io/blog/pytorch-batch-rowwise-application-of-function/#:~:text=PyTorch%20provides%20an%20efficient%20way%20to%20apply%20a%20function%20row,that%20applies%20to%20each%20row."
   ]
  }
 ],
 "metadata": {
  "kernelspec": {
   "display_name": "eecs4422",
   "language": "python",
   "name": "python3"
  },
  "language_info": {
   "codemirror_mode": {
    "name": "ipython",
    "version": 3
   },
   "file_extension": ".py",
   "mimetype": "text/x-python",
   "name": "python",
   "nbconvert_exporter": "python",
   "pygments_lexer": "ipython3",
   "version": "3.9.12"
  },
  "orig_nbformat": 4
 },
 "nbformat": 4,
 "nbformat_minor": 2
}
