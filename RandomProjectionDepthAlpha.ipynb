{
 "cells": [
  {
   "cell_type": "code",
   "execution_count": 1,
   "metadata": {},
   "outputs": [],
   "source": [
    "import torch\n",
    "import math\n",
    "import numpy as np\n",
    "import scipy.stats\n",
    "from scipy.stats import rankdata\n",
    "from scipy.interpolate import UnivariateSpline"
   ]
  },
  {
   "cell_type": "code",
   "execution_count": 2,
   "metadata": {},
   "outputs": [],
   "source": [
    "def simulatingU(x): \n",
    "    \"\"\"\n",
    "    Given an vector x this will return a single U vector of size 1xM where i assume M is the number of observations \n",
    "    x(1xM)/np.array: Represents one functional data point. Where M is the number of observations. \n",
    "    \"\"\"\n",
    "    m = x.shape[1]\n",
    "    sigma = torch.zeros(m,m,dtype=torch.float64)\n",
    "    sigma = torch.zeros(m,m)\n",
    "    for i in range(0,m): \n",
    "        newRow = list()\n",
    "        for j in range(i,x.shape[1]):\n",
    "            value = math.e**(-5* abs(x[0][i]-x[0][j]))\n",
    "            sigma[i][j]=value\n",
    "    sigma = (sigma + sigma.T).fill_diagonal_(1)\n",
    "    z = torch.normal(mean=0, std=1, size=(m,1)) # m by 1 vector\n",
    "    y = torch.matmul(torch.sqrt(sigma),z) \n",
    "    u = y/torch.norm(y)\n",
    "    return u.T"
   ]
  },
  {
   "cell_type": "code",
   "execution_count": 28,
   "metadata": {},
   "outputs": [
    {
     "name": "stdout",
     "output_type": "stream",
     "text": [
      "[0.215305   0.173595   0.21542001 0.15436499 0.08618    0.103475\n",
      " 0.21224001 0.22098002 0.078135   0.17938    0.21241002 0.22144\n",
      " 0.18651001 0.122605   0.22725502 0.20598002 0.09166    0.062325\n",
      " 0.18627501 0.197355   0.10418    0.04928499 0.21845503 0.11091\n",
      " 0.18500499 0.16417    0.079855   0.19238001 0.18506999 0.20183501\n",
      " 0.17128    0.207835   0.14778    0.13762499 0.17133    0.18593499\n",
      " 0.21293998 0.22160001 0.225475   0.02998    0.199705   0.089825\n",
      " 0.057835   0.13210499 0.195585   0.129035   0.21267    0.21346501\n",
      " 0.21575499 0.07242    0.18009    0.200105   0.149575   0.19549\n",
      " 0.11429501 0.21700498 0.17249501 0.193275   0.16446    0.11215\n",
      " 0.18436    0.18930499 0.22411498 0.13701999 0.09181999 0.18807499\n",
      " 0.18622501 0.21191001 0.20222501 0.12771001 0.02023    0.030715\n",
      " 0.18185    0.21461999 0.227845   0.22247501 0.19196501 0.1732\n",
      " 0.16831002 0.22247    0.038025   0.16943499 0.22666001 0.22350001\n",
      " 0.234835   0.19254999 0.12943001 0.196445   0.16989    0.200165\n",
      " 0.21637002 0.220595   0.16055    0.207095   0.21118    0.17024501\n",
      " 0.13153    0.21805501 0.058635   0.11657   ]\n"
     ]
    }
   ],
   "source": [
    "# where y is a matrix of J x N \n",
    "# where z is a vector of J x 1 \n",
    "# returns a J x 1 vector \n",
    "def compute_f_Hat(y,z): \n",
    "    \"\"\"\n",
    "    This function checks each row in y to check if each element is less than z in that same row\n",
    "    Parameters: \n",
    "    y (JxN Matrix): Where J represents the number of unit Vectors and N represents the number of functions \n",
    "    z (Jx1): A vector to compare each row by. \n",
    "    \"\"\"\n",
    "    count_less_than_threshold = (y <= z[:, np.newaxis]).sum(axis=1)\n",
    "    result = count_less_than_threshold/ y.shape[1]\n",
    "    return result\n",
    "\n",
    "\n",
    "# arr represents a singular function in points on a grid 1 x M ( where M represents the number of points n the grid)\n",
    "# Xn represents the matrix for all functions N x M (Where N is the number of functions)\n",
    "# U represents the matrix of random numbers pulled from the normal distrubution with shape J x M \n",
    "# Where J represents the unit vectors and M represents the number of points\n",
    "# This function will return the depth of function x in respect to all other functions in the data set\n",
    "\n",
    "def depth(arr, u, xn_uj):\n",
    "    \"\"\"\n",
    "    The depth function will tell us the depth of any given functional data point relative to the data set \n",
    "    Parameters: \n",
    "    arr(1xM)/np.array: Represents one functional data point. Where M is the number of observations. \n",
    "    xn(NxM)np.array: Represents all functional data points. \n",
    "    u(JxM)np.array: Represents the unit vectors, where J is the number of unit vectors and M is number of points.\n",
    "    Returns: \n",
    "    np.array : An double that represents the depth of each function relative to eachother. \n",
    "    \"\"\"\n",
    "    arr_u_dot = torch.matmul(u,arr)\n",
    "    fHatVector = compute_f_Hat(xn_uj,arr_u_dot)\n",
    "    result = ((torch.matmul(fHatVector, 1- fHatVector))/u.shape[0])\n",
    "    return result\n",
    "\n",
    "\n",
    "def getDepth(functionalDataSet,UnitVectorMatrix):\n",
    "    xn = torch.from_numpy(functionalDataSet)\n",
    "    uj = torch.from_numpy(UnitVectorMatrix)\n",
    "    xn_uj = torch.matmul(xn,uj.T).T # jxn \n",
    "    depthList = list()\n",
    "    for row in xn:\n",
    "        depthList.append(depth(row,uj,xn_uj).item())    \n",
    "    # Have to convert to a numpy array since scipcy doesnt like Tensors\n",
    "    depthVector = np.array(depthList)\n",
    "    return depthVector\n",
    "\n",
    "\n",
    "\n",
    "# We might need to add a flag for how rank method is caluclated \n",
    "def KW_H_Test(functionalDataSet: np.ndarray, UnitVectorMatrix: np.ndarray, \n",
    "              groups:np.ndarray): \n",
    "    \n",
    "    # # Gets the rank giving us a Nx1 vector \n",
    "    x = getDepth(functionalDataSet,UnitVectorMatrix)\n",
    "    rankVector = rankdata(x)\n",
    "        \n",
    "    # there is a scipy version of kruskal wallis we can use \n",
    "    groupRankDict = dict()\n",
    "    for i in range(0,groups.shape[0]): # Runs at O(N)\n",
    "        oldValue = groupRankDict.get(groups[i])\n",
    "        if oldValue != None: # the key value exsits \n",
    "            groupRankDict[groups[i]] = oldValue + rankVector[i]\n",
    "        else:\n",
    "            groupRankDict[groups[i]] = rankVector[i]\n",
    "\n",
    "    unique, counts = np.unique(groups, return_counts=True) # Runs at O(Groups) which should be fast \n",
    "    \n",
    "    summation = 0 \n",
    "    for key, value in dict(zip(unique, counts)).items(): # Runs at O(N)\n",
    "        summation += (groupRankDict[key] **2) / value\n",
    "    \n",
    "    hStat =  12 /(groups.size* (groups.size +1)) *summation - (3*(groups.size +1))\n",
    "    degreeOfFreedom = unique.size -1 \n",
    "    chiSquare = scipy.stats.chi2.ppf(1-.05, df=degreeOfFreedom)\n",
    "    return(hStat>chiSquare)\n",
    "\n",
    "Xn = np.random.random((100, 10)) # represents all the data  in points\n",
    "U = np.random.random((20, 10))   # unit matrix\n",
    "groups = np.random.randint(1, 11, size=100) # where size must be the amount of rows in Xn \n",
    "temp = KW_H_Test(Xn,U,groups)\n"
   ]
  },
  {
   "cell_type": "code",
   "execution_count": 25,
   "metadata": {},
   "outputs": [
    {
     "ename": "TypeError",
     "evalue": "depth2() missing 1 required positional argument: 'yn'",
     "output_type": "error",
     "traceback": [
      "\u001b[0;31m---------------------------------------------------------------------------\u001b[0m",
      "\u001b[0;31mTypeError\u001b[0m                                 Traceback (most recent call last)",
      "\u001b[1;32m/Users/aditjain/Desktop/Summer 2023/Research Project/DepthFunction/RandomProjectionDepthAlpha.ipynb Cell 4\u001b[0m in \u001b[0;36m<cell line: 55>\u001b[0;34m()\u001b[0m\n\u001b[1;32m     <a href='vscode-notebook-cell:/Users/aditjain/Desktop/Summer%202023/Research%20Project/DepthFunction/RandomProjectionDepthAlpha.ipynb#W3sZmlsZQ%3D%3D?line=52'>53</a>\u001b[0m Xn \u001b[39m=\u001b[39m np\u001b[39m.\u001b[39mrandom\u001b[39m.\u001b[39mrandom((\u001b[39m100\u001b[39m, \u001b[39m10\u001b[39m)) \u001b[39m# represents all the data  in points\u001b[39;00m\n\u001b[1;32m     <a href='vscode-notebook-cell:/Users/aditjain/Desktop/Summer%202023/Research%20Project/DepthFunction/RandomProjectionDepthAlpha.ipynb#W3sZmlsZQ%3D%3D?line=53'>54</a>\u001b[0m U \u001b[39m=\u001b[39m np\u001b[39m.\u001b[39mrandom\u001b[39m.\u001b[39mrandom((\u001b[39m20\u001b[39m, \u001b[39m10\u001b[39m))   \u001b[39m# unit matrix\u001b[39;00m\n\u001b[0;32m---> <a href='vscode-notebook-cell:/Users/aditjain/Desktop/Summer%202023/Research%20Project/DepthFunction/RandomProjectionDepthAlpha.ipynb#W3sZmlsZQ%3D%3D?line=54'>55</a>\u001b[0m temp \u001b[39m=\u001b[39m getDepth2(Xn,U)\n",
      "\u001b[1;32m/Users/aditjain/Desktop/Summer 2023/Research Project/DepthFunction/RandomProjectionDepthAlpha.ipynb Cell 4\u001b[0m in \u001b[0;36mgetDepth2\u001b[0;34m(functionalDataSet, UnitVectorMatrix)\u001b[0m\n\u001b[1;32m     <a href='vscode-notebook-cell:/Users/aditjain/Desktop/Summer%202023/Research%20Project/DepthFunction/RandomProjectionDepthAlpha.ipynb#W3sZmlsZQ%3D%3D?line=43'>44</a>\u001b[0m \u001b[39mfor\u001b[39;00m row \u001b[39min\u001b[39;00m xn:\n\u001b[1;32m     <a href='vscode-notebook-cell:/Users/aditjain/Desktop/Summer%202023/Research%20Project/DepthFunction/RandomProjectionDepthAlpha.ipynb#W3sZmlsZQ%3D%3D?line=44'>45</a>\u001b[0m     rowPrime \u001b[39m=\u001b[39m getDirivativeOfRow(T,row)\n\u001b[0;32m---> <a href='vscode-notebook-cell:/Users/aditjain/Desktop/Summer%202023/Research%20Project/DepthFunction/RandomProjectionDepthAlpha.ipynb#W3sZmlsZQ%3D%3D?line=46'>47</a>\u001b[0m     depthList\u001b[39m.\u001b[39mappend(depth2(row,uj,xn_uj)\u001b[39m.\u001b[39mitem())    \n\u001b[1;32m     <a href='vscode-notebook-cell:/Users/aditjain/Desktop/Summer%202023/Research%20Project/DepthFunction/RandomProjectionDepthAlpha.ipynb#W3sZmlsZQ%3D%3D?line=47'>48</a>\u001b[0m \u001b[39m# Have to convert to a numpy array since scipcy doesnt like Tensors\u001b[39;00m\n\u001b[1;32m     <a href='vscode-notebook-cell:/Users/aditjain/Desktop/Summer%202023/Research%20Project/DepthFunction/RandomProjectionDepthAlpha.ipynb#W3sZmlsZQ%3D%3D?line=48'>49</a>\u001b[0m depthVector \u001b[39m=\u001b[39m np\u001b[39m.\u001b[39marray(depthList)\n",
      "\u001b[0;31mTypeError\u001b[0m: depth2() missing 1 required positional argument: 'yn'"
     ]
    }
   ],
   "source": [
    "# Gets the derivate of a single function resented by points\n",
    "# Is able to find derivatives by using interpolation of the points\n",
    "# To calculate the dirivative of a dataset Xn we need to know at which t they are at, so for now we will make the assumption that they are equally seperated at 1 unit apart \n",
    "def getDirivativeOfRow(x,y):\n",
    "    spline = UnivariateSpline(x, y, s=0)  \n",
    "    derivative = spline.derivative()\n",
    "    derivative_values = derivative(x)\n",
    "    return torch.tensor(derivative_values)\n",
    "\n",
    "\n",
    "def simplicial_Depth():\n",
    "    return 0\n",
    "\n",
    "# X is a row vector with M number of points\n",
    "def depth2 (x,U, xn,yn):\n",
    "    \"\"\"\n",
    "    X(1xM)/np.array: Represents one functional data point. Where M is the number of observations. \n",
    "    U(JxM)np.array: Represents the unit vectors, where J is the number of unit vectors and M is number of points.\n",
    "    returns the depth of a single row of Xn averaged out\n",
    "    \"\"\"\n",
    "    xPrime = getDirivativeOfRow(T,x) # 1 x M\n",
    "    # For every Unit vector in Matrix U\n",
    "    average = 0 \n",
    "    for j in range(0, U.shape[0]): # 1xM\n",
    "        xUj = torch.matmul(torch.tensor(x),torch.tensor(U[j]))\n",
    "        xPrimeUj = torch.matmul(xPrime,torch.tensor(U[j]))\n",
    "        average += simplicial_Depth(xUj, xPrimeUj, xn_uj, yn_uj)\n",
    "\n",
    "    return average/U.shape[0]\n",
    "def getDepth2(functionalDataSet,UnitVectorMatrix):\n",
    "    # Convert to Tensors\n",
    "    xn = torch.from_numpy(functionalDataSet)\n",
    "    uj = torch.from_numpy(UnitVectorMatrix)\n",
    "\n",
    "    T = torch.arange(xn.shape[1]) # create some T that represents at what time the observations were made\n",
    "\n",
    "    yn = torch.stack([getDirivativeOfRow(T,row) for row in Xn]) # Take the derivative of functional data set\n",
    "    \n",
    "    xn_uj = torch.matmul(xn,uj.T).T # jxn \n",
    "    yn_uj = torch.matmul(yn,uj.T).T # jxn \n",
    "    \n",
    "    # Returns a N x 1 vector representing the depth for each row of functionalDataset\n",
    "    depthList = list()\n",
    "    for row in xn:\n",
    "        rowPrime = getDirivativeOfRow(T,row)\n",
    "        \n",
    "        depthList.append(depth2(row,uj,xn_uj).item())    \n",
    "    # Have to convert to a numpy array since scipcy doesnt like Tensors\n",
    "    depthVector = np.array(depthList)\n",
    "    return depthVector\n",
    "\n",
    "\n",
    "Xn = np.random.random((100, 10)) # represents all the data  in points\n",
    "U = np.random.random((20, 10))   # unit matrix\n",
    "temp = getDepth2(Xn,U)\n",
    "\n",
    "\n",
    "# T = torch.arange(Xn.shape[1]) \n",
    "# result_row_wise = torch.stack([getDirivativeOfRow(T,row) for row in Xn])\n",
    "\n",
    "# To get the dirivate app"
   ]
  },
  {
   "cell_type": "code",
   "execution_count": null,
   "metadata": {},
   "outputs": [],
   "source": [
    "Xn = torch.tensor(np.random.random((100, 10)))"
   ]
  },
  {
   "cell_type": "code",
   "execution_count": null,
   "metadata": {},
   "outputs": [],
   "source": [
    "# likelyhood depth instead of Simplicial depth"
   ]
  },
  {
   "cell_type": "markdown",
   "metadata": {},
   "source": [
    "How to compute multiple row operations at the same time: https://saturncloud.io/blog/pytorch-batch-rowwise-application-of-function/#:~:text=PyTorch%20provides%20an%20efficient%20way%20to%20apply%20a%20function%20row,that%20applies%20to%20each%20row."
   ]
  },
  {
   "cell_type": "code",
   "execution_count": null,
   "metadata": {},
   "outputs": [],
   "source": [
    "import numpy as np\n",
    "import matplotlib.pyplot as plt\n",
    "from scipy.interpolate import UnivariateSpline\n",
    "rng = np.random.default_rng()\n",
    "x = np.linspace(-3, 3, 50)\n",
    "y = np.exp(-x**2) + 0.1 * rng.standard_normal(50)\n",
    "plt.plot(x, y, 'ro', ms=5)"
   ]
  },
  {
   "cell_type": "code",
   "execution_count": null,
   "metadata": {},
   "outputs": [],
   "source": [
    "spl = UnivariateSpline(x, y)\n",
    "xs = np.linspace(-3, 3, 100)\n",
    "plt.plot(xs, spl(xs), 'g', lw=3)"
   ]
  },
  {
   "cell_type": "code",
   "execution_count": null,
   "metadata": {},
   "outputs": [],
   "source": [
    "spl.set_smoothing_factor(0.5)\n",
    "plt.plot(xs, spl(xs), 'b', lw=3)\n",
    "plt.show()"
   ]
  }
 ],
 "metadata": {
  "kernelspec": {
   "display_name": "eecs4422",
   "language": "python",
   "name": "python3"
  },
  "language_info": {
   "codemirror_mode": {
    "name": "ipython",
    "version": 3
   },
   "file_extension": ".py",
   "mimetype": "text/x-python",
   "name": "python",
   "nbconvert_exporter": "python",
   "pygments_lexer": "ipython3",
   "version": "3.9.12"
  },
  "orig_nbformat": 4
 },
 "nbformat": 4,
 "nbformat_minor": 2
}
